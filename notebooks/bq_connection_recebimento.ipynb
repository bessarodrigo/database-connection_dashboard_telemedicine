{
 "cells": [
  {
   "cell_type": "code",
   "execution_count": 1,
   "id": "1b87409f",
   "metadata": {},
   "outputs": [],
   "source": [
    "import os\n",
    "from dotenv import load_dotenv\n",
    "from google.cloud import bigquery\n",
    "import pandas as pd"
   ]
  },
  {
   "cell_type": "code",
   "execution_count": 2,
   "id": "dea6d472",
   "metadata": {},
   "outputs": [
    {
     "data": {
      "text/plain": [
       "True"
      ]
     },
     "execution_count": 2,
     "metadata": {},
     "output_type": "execute_result"
    }
   ],
   "source": [
    "# --- Carga das variáveis de ambiente do arquivo .env ---\n",
    "load_dotenv()"
   ]
  },
  {
   "cell_type": "code",
   "execution_count": 3,
   "id": "7c43326b",
   "metadata": {},
   "outputs": [],
   "source": [
    "# --- Configuração da autenticação com Google Cloud ---\n",
    "current_dir = os.getcwd()\n",
    "json_path = os.path.abspath(os.path.join(current_dir, '..', 'credenciais', 'bq-chave.json'))\n",
    "\n",
    "os.environ[\"GOOGLE_APPLICATION_CREDENTIALS\"] = json_path\n",
    "\n",
    "# --- Inicializa cliente BigQuery ---\n",
    "client = bigquery.Client()\n",
    "\n",
    "# --- Definições padrão do projeto, dataset e tabela ---\n",
    "project_id = 'telemedicina-462920'\n",
    "dataset_id = 'financeiro'\n",
    "\n",
    "# Função para construir o full_table_id no formato 'projeto.dataset.tabela'\n",
    "def get_full_table_id(project, dataset, table):\n",
    "    return f\"{project}.{dataset}.{table}\""
   ]
  },
  {
   "cell_type": "code",
   "execution_count": 4,
   "id": "68c554fa",
   "metadata": {},
   "outputs": [],
   "source": [
    "# --- Função genérica para carregar dataframe Excel e enviar para BigQuery ---\n",
    "def upload_to_bigquery_from_excel(sheet_name: str, table_name: str, schema: list):\n",
    "    excel_path = os.getenv(\"EXCEL_FILE_PATH\")\n",
    "    if not excel_path or not os.path.exists(excel_path):\n",
    "        raise FileNotFoundError(\"Arquivo Excel não encontrado ou variável EXCEL_FILE_PATH não definida.\")\n",
    "        \n",
    "    df = pd.read_excel(excel_path, sheet_name=sheet_name)\n",
    "    \n",
    "    # Converte colunas do tipo DATE para datetime no pandas\n",
    "    date_columns = [field.name for field in schema if field.field_type == \"DATE\"]\n",
    "    for col in date_columns:\n",
    "        df[col] = pd.to_datetime(df[col], errors='coerce')\n",
    "    \n",
    "    # Não precisa ler novamente aqui\n",
    "    print(f\"\\nDados carregados da aba '{sheet_name}':\")\n",
    "    print(f\"Tamanho (linhas, colunas): {df.shape}\")\n",
    "    print(f\"Tipos de dados:\\n{df.dtypes}\")\n",
    "    \n",
    "    job_config = bigquery.LoadJobConfig(\n",
    "        schema=schema,\n",
    "        write_disposition=\"WRITE_TRUNCATE\"\n",
    "    )\n",
    "    \n",
    "    full_table_id = get_full_table_id(project_id, dataset_id, table_name)\n",
    "    \n",
    "    job = client.load_table_from_dataframe(df, full_table_id, job_config=job_config)\n",
    "    job.result()\n",
    "    \n",
    "    print(f\"✅ Dados enviados com sucesso para: {full_table_id}\")"
   ]
  },
  {
   "cell_type": "code",
   "execution_count": 5,
   "id": "05dd1fb0",
   "metadata": {},
   "outputs": [
    {
     "name": "stdout",
     "output_type": "stream",
     "text": [
      "\n",
      "Dados carregados da aba 'recebimento':\n",
      "Tamanho (linhas, colunas): (498, 5)\n",
      "Tipos de dados:\n",
      "DATA              datetime64[ns]\n",
      "CATEGORIA                 object\n",
      "CLIENTE                   object\n",
      "ITEM_PCG                  object\n",
      "TOTAL_RECEBIDO           float64\n",
      "dtype: object\n"
     ]
    },
    {
     "name": "stderr",
     "output_type": "stream",
     "text": [
      "C:\\Anaconda\\lib\\site-packages\\google\\cloud\\bigquery\\_pandas_helpers.py:489: FutureWarning: Loading pandas DataFrame into BigQuery will require pandas-gbq package version 0.26.1 or greater in the future. Tried to import pandas-gbq and got: No module named 'pandas_gbq'\n",
      "  warnings.warn(\n"
     ]
    },
    {
     "name": "stdout",
     "output_type": "stream",
     "text": [
      "✅ Dados enviados com sucesso para: telemedicina-462920.financeiro.recebimento\n"
     ]
    }
   ],
   "source": [
    "# --- Exemplo de uso da função para a aba e tabela meta_odonto ---\n",
    "schema_recebimento = [\n",
    "    bigquery.SchemaField(\"DATA\", \"DATE\"),\n",
    "    bigquery.SchemaField(\"CATEGORIA\", \"STRING\"),\n",
    "    bigquery.SchemaField(\"CLIENTE\", \"STRING\"),\n",
    "    bigquery.SchemaField(\"ITEM_PCG\", \"STRING\"),\n",
    "    bigquery.SchemaField(\"TOTAL_RECEBIDO\", \"FLOAT\"),\n",
    "]\n",
    "\n",
    "upload_to_bigquery_from_excel(\n",
    "    sheet_name='recebimento', \n",
    "    table_name='recebimento', \n",
    "    schema=schema_recebimento\n",
    ")"
   ]
  }
 ],
 "metadata": {
  "kernelspec": {
   "display_name": "Python 3 (ipykernel)",
   "language": "python",
   "name": "python3"
  },
  "language_info": {
   "codemirror_mode": {
    "name": "ipython",
    "version": 3
   },
   "file_extension": ".py",
   "mimetype": "text/x-python",
   "name": "python",
   "nbconvert_exporter": "python",
   "pygments_lexer": "ipython3",
   "version": "3.9.13"
  }
 },
 "nbformat": 4,
 "nbformat_minor": 5
}
