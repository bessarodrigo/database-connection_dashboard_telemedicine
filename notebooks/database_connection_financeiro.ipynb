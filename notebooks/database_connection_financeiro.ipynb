{
 "cells": [
  {
   "cell_type": "code",
   "execution_count": 1,
   "id": "8b1aebb3",
   "metadata": {},
   "outputs": [],
   "source": [
    "import numpy as np\n",
    "import pandas as pd\n",
    "from sqlalchemy import create_engine, text\n",
    "from sqlalchemy import Table, Column, Integer, String, Float, Date, MetaData\n",
    "import os\n",
    "from dotenv import load_dotenv"
   ]
  },
  {
   "cell_type": "code",
   "execution_count": 2,
   "id": "73a01df3",
   "metadata": {},
   "outputs": [],
   "source": [
    "# Carregar variáveis do arquivo .env\n",
    "load_dotenv()\n",
    "\n",
    "# Obter as credenciais do banco de dados do .env\n",
    "db_host = os.getenv(\"DB_HOST\")\n",
    "db_port = os.getenv(\"DB_PORT\")\n",
    "db_name = os.getenv(\"DB_NAME\")\n",
    "db_user = os.getenv(\"DB_USER\")\n",
    "db_password = os.getenv(\"DB_PASSWORD\")\n",
    "excel_path = os.getenv(\"EXCEL_FILE_PATH\")"
   ]
  },
  {
   "cell_type": "markdown",
   "id": "6e157952",
   "metadata": {},
   "source": [
    "## Recebimento"
   ]
  },
  {
   "cell_type": "code",
   "execution_count": 3,
   "id": "561d1d63",
   "metadata": {},
   "outputs": [
    {
     "name": "stdout",
     "output_type": "stream",
     "text": [
      "Número de linhas e colunas:\n",
      "(498, 5)\n",
      "\n",
      "-------------------------------------\n",
      "DATA              datetime64[ns]\n",
      "CATEGORIA                 object\n",
      "CLIENTE                   object\n",
      "ITEM_PCG                  object\n",
      "TOTAL_RECEBIDO           float64\n",
      "dtype: object\n",
      "\n",
      "-------------------------------------\n",
      "\n",
      "Visualização inicial dos dados:\n",
      "        DATA     CATEGORIA              CLIENTE             ITEM_PCG  \\\n",
      "0 2024-01-02  TELEMEDICINA  PagSmart Pagamentos  TELEMEDICINA VAREJO   \n",
      "1 2024-01-02        SEGURO       SimPro Seguros   SEGURO CONDOMINIAL   \n",
      "2 2024-01-02        SEGURO             TProtege   SEGURO CONDOMINIAL   \n",
      "3 2024-01-03  TELEMEDICINA  PagSmart Pagamentos  TELEMEDICINA VAREJO   \n",
      "4 2024-01-04        SEGURO  ProtegeMais Seguros   SEGURO RESIDENCIAL   \n",
      "\n",
      "   TOTAL_RECEBIDO  \n",
      "0          473.42  \n",
      "1           95.24  \n",
      "2            4.86  \n",
      "3          243.89  \n",
      "4           35.70  \n"
     ]
    }
   ],
   "source": [
    "# Carregar os dados da aba específica do arquivo Excel\n",
    "df = pd.read_excel(excel_path, sheet_name='recebimento')\n",
    "\n",
    "# Exibir o número de linhas e colunas\n",
    "print('Número de linhas e colunas:')\n",
    "print(df.shape)\n",
    "\n",
    "print('\\n-------------------------------------')\n",
    "\n",
    "# Exibir os tipos de dados ajustados\n",
    "print(df.dtypes)\n",
    "\n",
    "print('\\n-------------------------------------')\n",
    "\n",
    "# Exibir as primeiras linhas dos dados\n",
    "print('\\nVisualização inicial dos dados:')\n",
    "print(df.head())"
   ]
  },
  {
   "cell_type": "code",
   "execution_count": 4,
   "id": "ab43ab6d",
   "metadata": {},
   "outputs": [
    {
     "name": "stdout",
     "output_type": "stream",
     "text": [
      "(datetime.datetime(2024, 1, 2, 0, 0), 'TELEMEDICINA', 'PagSmart Pagamentos', 'TELEMEDICINA VAREJO', 473.42)\n",
      "(datetime.datetime(2024, 1, 2, 0, 0), 'SEGURO', 'SimPro Seguros', 'SEGURO CONDOMINIAL', 95.24)\n",
      "(datetime.datetime(2024, 1, 2, 0, 0), 'SEGURO', 'TProtege', 'SEGURO CONDOMINIAL', 4.86)\n",
      "(datetime.datetime(2024, 1, 3, 0, 0), 'TELEMEDICINA', 'PagSmart Pagamentos', 'TELEMEDICINA VAREJO', 243.89)\n",
      "(datetime.datetime(2024, 1, 4, 0, 0), 'SEGURO', 'ProtegeMais Seguros', 'SEGURO RESIDENCIAL', 35.7)\n"
     ]
    }
   ],
   "source": [
    "# Inserir dados no banco de dados PostgreSQL\n",
    "\n",
    "# Definir a string de conexão com o banco de dados PostgreSQL\n",
    "postgres_str = f'postgresql://{db_user}:{db_password}@{db_host}:{db_port}/{db_name}'\n",
    "        \n",
    "# Configuração da conexão com o banco de dados\n",
    "engine = create_engine(postgres_str)\n",
    "\n",
    "# Criação do schema dre_ecbahia\n",
    "with engine.connect() as connection:\n",
    "    connection.execute(text(\"CREATE SCHEMA IF NOT EXISTS financeiro;\"))\n",
    "    \n",
    "# from sqlalchemy import Table, Column, Integer, String, Float, MetaData\n",
    "    \n",
    "metadata = MetaData(schema='financeiro')\n",
    "\n",
    "# Definição da tabela recebimento\n",
    "recebimento = Table('recebimento', metadata,\n",
    "                         Column('DATA', Date),\n",
    "                         Column('CATEGORIA', String),\n",
    "                         Column('CLIENTE', String),\n",
    "                         Column('ITEM_PCG', String),\n",
    "                         Column('TOTAL_RECEBIDO', Float),\n",
    "                         )\n",
    "\n",
    "# Criação da tabela no banco de dados\n",
    "metadata.create_all(engine)\n",
    "\n",
    "# Inserção dos dados na tabela f_razao_contabil\n",
    "df.to_sql('recebimento', engine, schema='financeiro', if_exists='replace', index=False)\n",
    "\n",
    "# Consulta para verificar os dados inseridos\n",
    "with engine.connect() as connection:\n",
    "    result = connection.execute(text(\"SELECT * FROM financeiro.recebimento LIMIT 5;\"))\n",
    "    for row in result:\n",
    "        print(row)"
   ]
  },
  {
   "cell_type": "markdown",
   "id": "8d1dc620",
   "metadata": {},
   "source": [
    "## Despesas"
   ]
  },
  {
   "cell_type": "code",
   "execution_count": 5,
   "id": "9819103b",
   "metadata": {},
   "outputs": [
    {
     "name": "stdout",
     "output_type": "stream",
     "text": [
      "Número de linhas e colunas:\n",
      "(298, 6)\n",
      "\n",
      "-------------------------------------\n",
      "DATA                datetime64[ns]\n",
      "ANO                          int64\n",
      "ITEM_PAI                    object\n",
      "ITEM_PCG                    object\n",
      "CENTRO_RESULTADO            object\n",
      "TOTAL                      float64\n",
      "dtype: object\n",
      "\n",
      "-------------------------------------\n",
      "\n",
      "Visualização inicial dos dados:\n",
      "        DATA   ANO                 ITEM_PAI                 ITEM_PCG  \\\n",
      "0 2024-07-18  2024  MATERIAL ADMINISTRATIVO  MATERIAL DE INFORMÁTICA   \n",
      "1 2024-07-16  2024       PESSOAL - ENCARGOS             TAXA ESTÁGIO   \n",
      "2 2024-07-16  2024      DESPESAS COMERCIAIS  FERRAMENTAS MKT DIGITAL   \n",
      "3 2024-07-15  2024    DESPESAS OPERACIONAIS   OP - PRESTAÇÃO SERVIÇO   \n",
      "4 2024-07-15  2024    DESPESAS OPERACIONAIS   TRANSPORTE OPERACIONAL   \n",
      "\n",
      "    CENTRO_RESULTADO    TOTAL  \n",
      "0       VENDA VAREJO   174.71  \n",
      "1             GESTÃO   141.02  \n",
      "2  VENDA CORPORATIVA  6500.00  \n",
      "3  VENDA CORPORATIVA    39.00  \n",
      "4             GESTÃO  1303.56  \n"
     ]
    }
   ],
   "source": [
    "# Carregar os dados da aba específica do arquivo Excel\n",
    "df = pd.read_excel(excel_path, sheet_name='despesas')\n",
    "\n",
    "# Exibir o número de linhas e colunas\n",
    "print('Número de linhas e colunas:')\n",
    "print(df.shape)\n",
    "\n",
    "print('\\n-------------------------------------')\n",
    "\n",
    "# Exibir os tipos de dados ajustados\n",
    "print(df.dtypes)\n",
    "\n",
    "print('\\n-------------------------------------')\n",
    "\n",
    "# Exibir as primeiras linhas dos dados\n",
    "print('\\nVisualização inicial dos dados:')\n",
    "print(df.head())"
   ]
  },
  {
   "cell_type": "code",
   "execution_count": 6,
   "id": "a43e8f88",
   "metadata": {},
   "outputs": [
    {
     "name": "stdout",
     "output_type": "stream",
     "text": [
      "(datetime.datetime(2024, 7, 18, 0, 0), 2024, 'MATERIAL ADMINISTRATIVO', 'MATERIAL DE INFORMÁTICA', 'VENDA VAREJO', 174.71)\n",
      "(datetime.datetime(2024, 7, 16, 0, 0), 2024, 'PESSOAL - ENCARGOS', 'TAXA ESTÁGIO', 'GESTÃO', 141.02)\n",
      "(datetime.datetime(2024, 7, 16, 0, 0), 2024, 'DESPESAS COMERCIAIS', 'FERRAMENTAS MKT DIGITAL', 'VENDA CORPORATIVA', 6500.0)\n",
      "(datetime.datetime(2024, 7, 15, 0, 0), 2024, 'DESPESAS OPERACIONAIS', 'OP - PRESTAÇÃO SERVIÇO', 'VENDA CORPORATIVA', 39.0)\n",
      "(datetime.datetime(2024, 7, 15, 0, 0), 2024, 'DESPESAS OPERACIONAIS', 'TRANSPORTE OPERACIONAL', 'GESTÃO', 1303.56)\n"
     ]
    }
   ],
   "source": [
    "# Inserir dados no banco de dados PostgreSQL\n",
    "\n",
    "# Definir a string de conexão com o banco de dados PostgreSQL\n",
    "postgres_str = f'postgresql://{db_user}:{db_password}@{db_host}:{db_port}/{db_name}'\n",
    "        \n",
    "# Configuração da conexão com o banco de dados\n",
    "engine = create_engine(postgres_str)\n",
    "\n",
    "# Criação do schema dre_ecbahia\n",
    "with engine.connect() as connection:\n",
    "    connection.execute(text(\"CREATE SCHEMA IF NOT EXISTS financeiro;\"))\n",
    "    \n",
    "# from sqlalchemy import Table, Column, Integer, String, Float, MetaData\n",
    "    \n",
    "metadata = MetaData(schema='financeiro')\n",
    "\n",
    "# Definição da tabela despesas\n",
    "despesas = Table('despesas', metadata,\n",
    "                         Column('DATA', Date),\n",
    "                         Column('ANO', Integer),\n",
    "                         Column('ITEM_PAI', String),\n",
    "                         Column('ITEM_PCG', String),\n",
    "                         Column('CENTRO_RESULTADO', String),\n",
    "                         Column('TOTAL', Float),\n",
    "                         )\n",
    "\n",
    "# Criação da tabela no banco de dados\n",
    "metadata.create_all(engine)\n",
    "\n",
    "# Inserção dos dados na tabela f_razao_contabil\n",
    "df.to_sql('despesas', engine, schema='financeiro', if_exists='replace', index=False)\n",
    "\n",
    "# Consulta para verificar os dados inseridos\n",
    "with engine.connect() as connection:\n",
    "    result = connection.execute(text(\"SELECT * FROM financeiro.despesas LIMIT 5;\"))\n",
    "    for row in result:\n",
    "        print(row)"
   ]
  },
  {
   "cell_type": "markdown",
   "id": "239c0edd",
   "metadata": {},
   "source": [
    "## Metas de Recebimento"
   ]
  },
  {
   "cell_type": "code",
   "execution_count": 7,
   "id": "43044181",
   "metadata": {},
   "outputs": [
    {
     "name": "stdout",
     "output_type": "stream",
     "text": [
      "Número de linhas e colunas:\n",
      "(12, 4)\n",
      "\n",
      "-------------------------------------\n",
      "data                datetime64[ns]\n",
      "mes                          int64\n",
      "Total_Recebido             float64\n",
      "Meta_Recebimento           float64\n",
      "dtype: object\n",
      "\n",
      "-------------------------------------\n",
      "\n",
      "Visualização inicial dos dados:\n",
      "        data  mes  Total_Recebido  Meta_Recebimento\n",
      "0 2024-12-01   12            0.00           91096.0\n",
      "1 2024-11-01   11            0.00           87527.0\n",
      "2 2024-10-01   10        47521.15           86594.0\n",
      "3 2024-09-01    9        39615.60           85695.0\n",
      "4 2024-08-01    8        38803.75           82745.0\n"
     ]
    }
   ],
   "source": [
    "# Carregar os dados da aba específica do arquivo Excel\n",
    "df = pd.read_excel(excel_path, sheet_name='meta_recebimento')\n",
    "\n",
    "# Exibir o número de linhas e colunas\n",
    "print('Número de linhas e colunas:')\n",
    "print(df.shape)\n",
    "\n",
    "print('\\n-------------------------------------')\n",
    "\n",
    "# Exibir os tipos de dados ajustados\n",
    "print(df.dtypes)\n",
    "\n",
    "print('\\n-------------------------------------')\n",
    "\n",
    "# Exibir as primeiras linhas dos dados\n",
    "print('\\nVisualização inicial dos dados:')\n",
    "print(df.head())"
   ]
  },
  {
   "cell_type": "code",
   "execution_count": 8,
   "id": "d9bcc3ab",
   "metadata": {},
   "outputs": [
    {
     "name": "stdout",
     "output_type": "stream",
     "text": [
      "(datetime.datetime(2024, 12, 1, 0, 0), 12, 0.0, 91096.0)\n",
      "(datetime.datetime(2024, 11, 1, 0, 0), 11, 0.0, 87527.0)\n",
      "(datetime.datetime(2024, 10, 1, 0, 0), 10, 47521.15, 86594.0)\n",
      "(datetime.datetime(2024, 9, 1, 0, 0), 9, 39615.6, 85695.0)\n",
      "(datetime.datetime(2024, 8, 1, 0, 0), 8, 38803.75, 82745.0)\n"
     ]
    }
   ],
   "source": [
    "# Inserir dados no banco de dados PostgreSQL\n",
    "\n",
    "# Definir a string de conexão com o banco de dados PostgreSQL\n",
    "postgres_str = f'postgresql://{db_user}:{db_password}@{db_host}:{db_port}/{db_name}'\n",
    "        \n",
    "# Configuração da conexão com o banco de dados\n",
    "engine = create_engine(postgres_str)\n",
    "\n",
    "# Criação do schema dre_ecbahia\n",
    "with engine.connect() as connection:\n",
    "    connection.execute(text(\"CREATE SCHEMA IF NOT EXISTS financeiro;\"))\n",
    "    \n",
    "# from sqlalchemy import Table, Column, Integer, String, Float, MetaData\n",
    "    \n",
    "metadata = MetaData(schema='financeiro')\n",
    "\n",
    "# Definição da tabela meta_recebimento\n",
    "meta_recebimento = Table('meta_recebimento', metadata,\n",
    "                         Column('data', Date),\n",
    "                         Column('mes', Integer),\n",
    "                         Column('Total_Recebido', Float),\n",
    "                         Column('Meta_Recebimento', Float),\n",
    "                         )\n",
    "\n",
    "# Criação da tabela no banco de dados\n",
    "metadata.create_all(engine)\n",
    "\n",
    "# Inserção dos dados na tabela f_razao_contabil\n",
    "df.to_sql('meta_recebimento', engine, schema='financeiro', if_exists='replace', index=False)\n",
    "\n",
    "# Consulta para verificar os dados inseridos\n",
    "with engine.connect() as connection:\n",
    "    result = connection.execute(text(\"SELECT * FROM financeiro.meta_recebimento LIMIT 5;\"))\n",
    "    for row in result:\n",
    "        print(row)"
   ]
  },
  {
   "cell_type": "markdown",
   "id": "c209392f",
   "metadata": {},
   "source": [
    "## Meta de Despesas"
   ]
  },
  {
   "cell_type": "code",
   "execution_count": 9,
   "id": "173d2fd1",
   "metadata": {},
   "outputs": [
    {
     "name": "stdout",
     "output_type": "stream",
     "text": [
      "Número de linhas e colunas:\n",
      "(12, 4)\n",
      "\n",
      "-------------------------------------\n",
      "Data             datetime64[ns]\n",
      "Mes                       int64\n",
      "Despesas                float64\n",
      "Meta_Despesas           float64\n",
      "dtype: object\n",
      "\n",
      "-------------------------------------\n",
      "\n",
      "Visualização inicial dos dados:\n",
      "        Data  Mes  Despesas  Meta_Despesas\n",
      "0 2024-12-01   12       0.0      68976.000\n",
      "1 2024-11-01   11       0.0      68610.000\n",
      "2 2024-10-01   10       0.0      61101.000\n",
      "3 2024-09-01    9       0.0      60743.000\n",
      "4 2024-08-01    8       0.0      55831.888\n"
     ]
    }
   ],
   "source": [
    "# Carregar os dados da aba específica do arquivo Excel\n",
    "df = pd.read_excel(excel_path, sheet_name='meta_despesas')\n",
    "\n",
    "# Exibir o número de linhas e colunas\n",
    "print('Número de linhas e colunas:')\n",
    "print(df.shape)\n",
    "\n",
    "print('\\n-------------------------------------')\n",
    "\n",
    "# Exibir os tipos de dados ajustados\n",
    "print(df.dtypes)\n",
    "\n",
    "print('\\n-------------------------------------')\n",
    "\n",
    "# Exibir as primeiras linhas dos dados\n",
    "print('\\nVisualização inicial dos dados:')\n",
    "print(df.head())"
   ]
  },
  {
   "cell_type": "code",
   "execution_count": 10,
   "id": "b3917b40",
   "metadata": {},
   "outputs": [
    {
     "name": "stdout",
     "output_type": "stream",
     "text": [
      "(datetime.datetime(2024, 12, 1, 0, 0), 12, 0.0, 68976.0)\n",
      "(datetime.datetime(2024, 11, 1, 0, 0), 11, 0.0, 68610.0)\n",
      "(datetime.datetime(2024, 10, 1, 0, 0), 10, 0.0, 61101.0)\n",
      "(datetime.datetime(2024, 9, 1, 0, 0), 9, 0.0, 60743.0)\n",
      "(datetime.datetime(2024, 8, 1, 0, 0), 8, 0.0, 55831.888)\n"
     ]
    }
   ],
   "source": [
    "# Inserir dados no banco de dados PostgreSQL\n",
    "\n",
    "# Definir a string de conexão com o banco de dados PostgreSQL\n",
    "postgres_str = f'postgresql://{db_user}:{db_password}@{db_host}:{db_port}/{db_name}'\n",
    "        \n",
    "# Configuração da conexão com o banco de dados\n",
    "engine = create_engine(postgres_str)\n",
    "\n",
    "# Criação do schema dre_ecbahia\n",
    "with engine.connect() as connection:\n",
    "    connection.execute(text(\"CREATE SCHEMA IF NOT EXISTS financeiro;\"))\n",
    "    \n",
    "# from sqlalchemy import Table, Column, Integer, String, Float, MetaData\n",
    "    \n",
    "metadata = MetaData(schema='financeiro')\n",
    "\n",
    "# Definição da tabela meta_recebimento\n",
    "meta_recebimento = Table('meta_despesas', metadata,\n",
    "                         Column('Data', Date),\n",
    "                         Column('Mes', Integer),\n",
    "                         Column('Despesas', Float),\n",
    "                         Column('Meta_Despesas', Float),\n",
    "                         )\n",
    "\n",
    "# Criação da tabela no banco de dados\n",
    "metadata.create_all(engine)\n",
    "\n",
    "# Inserção dos dados na tabela f_razao_contabil\n",
    "df.to_sql('meta_despesas', engine, schema='financeiro', if_exists='replace', index=False)\n",
    "\n",
    "# Consulta para verificar os dados inseridos\n",
    "with engine.connect() as connection:\n",
    "    result = connection.execute(text(\"SELECT * FROM financeiro.meta_despesas LIMIT 5;\"))\n",
    "    for row in result:\n",
    "        print(row)"
   ]
  }
 ],
 "metadata": {
  "kernelspec": {
   "display_name": "Python 3 (ipykernel)",
   "language": "python",
   "name": "python3"
  },
  "language_info": {
   "codemirror_mode": {
    "name": "ipython",
    "version": 3
   },
   "file_extension": ".py",
   "mimetype": "text/x-python",
   "name": "python",
   "nbconvert_exporter": "python",
   "pygments_lexer": "ipython3",
   "version": "3.9.13"
  }
 },
 "nbformat": 4,
 "nbformat_minor": 5
}
