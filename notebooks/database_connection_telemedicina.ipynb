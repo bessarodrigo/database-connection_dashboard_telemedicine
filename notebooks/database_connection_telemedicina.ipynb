{
 "cells": [
  {
   "cell_type": "code",
   "execution_count": 1,
   "id": "8b1aebb3",
   "metadata": {},
   "outputs": [],
   "source": [
    "import numpy as np\n",
    "import pandas as pd\n",
    "from sqlalchemy import create_engine, text\n",
    "from sqlalchemy import Table, Column, Integer, String, Float, Date, MetaData\n",
    "import os\n",
    "from dotenv import load_dotenv"
   ]
  },
  {
   "cell_type": "code",
   "execution_count": 2,
   "id": "73a01df3",
   "metadata": {},
   "outputs": [],
   "source": [
    "# Carregar variáveis do arquivo .env\n",
    "load_dotenv()\n",
    "\n",
    "# Obter as credenciais do banco de dados do .env\n",
    "db_host = os.getenv(\"DB_HOST\")\n",
    "db_port = os.getenv(\"DB_PORT\")\n",
    "db_name = os.getenv(\"DB_NAME\")\n",
    "db_user = os.getenv(\"DB_USER\")\n",
    "db_password = os.getenv(\"DB_PASSWORD\")\n",
    "excel_path = os.getenv(\"EXCEL_FILE_PATH\")"
   ]
  },
  {
   "cell_type": "markdown",
   "id": "6e157952",
   "metadata": {},
   "source": [
    "## Contratos"
   ]
  },
  {
   "cell_type": "code",
   "execution_count": 3,
   "id": "561d1d63",
   "metadata": {},
   "outputs": [
    {
     "name": "stdout",
     "output_type": "stream",
     "text": [
      "Número de linhas e colunas:\n",
      "(140, 8)\n",
      "\n",
      "-------------------------------------\n",
      "EMPRESA                   object\n",
      "CONSULTAS                  int64\n",
      "VIDAS ATIVAS               int64\n",
      "SINISTRALIDADE           float64\n",
      "PERIODO           datetime64[ns]\n",
      "MES                       object\n",
      "ANO                        int64\n",
      "SETOR                     object\n",
      "dtype: object\n",
      "\n",
      "-------------------------------------\n",
      "\n",
      "Visualização inicial dos dados:\n",
      "               EMPRESA  CONSULTAS  VIDAS ATIVAS  SINISTRALIDADE    PERIODO  \\\n",
      "0  Saúde Integral Ltda          2            15        0.133333 2024-05-01   \n",
      "1  Saúde Integral Ltda          5            28        0.178571 2024-04-01   \n",
      "2  Saúde Integral Ltda          7            26        0.269231 2024-03-01   \n",
      "3  Saúde Integral Ltda          5            22        0.227273 2024-02-01   \n",
      "4  Saúde Integral Ltda          6            19        0.315789 2024-01-01   \n",
      "\n",
      "         MES   ANO    SETOR  \n",
      "0       MAIO  2024  PUBLICO  \n",
      "1      ABRIL  2024  PUBLICO  \n",
      "2      MARÇO  2024  PUBLICO  \n",
      "3  FEVEREIRO  2024  PUBLICO  \n",
      "4    JANEIRO  2024  PUBLICO  \n"
     ]
    }
   ],
   "source": [
    "# Carregar os dados da aba específica do arquivo Excel\n",
    "df = pd.read_excel(excel_path, sheet_name='contratos_pj') \n",
    "\n",
    "# Exibir o número de linhas e colunas\n",
    "print('Número de linhas e colunas:')\n",
    "print(df.shape)\n",
    "\n",
    "print('\\n-------------------------------------')\n",
    "\n",
    "# Exibir os tipos de dados ajustados\n",
    "print(df.dtypes)\n",
    "\n",
    "print('\\n-------------------------------------')\n",
    "\n",
    "# Exibir as primeiras linhas dos dados\n",
    "print('\\nVisualização inicial dos dados:')\n",
    "print(df.head())"
   ]
  },
  {
   "cell_type": "code",
   "execution_count": 4,
   "id": "ab43ab6d",
   "metadata": {},
   "outputs": [
    {
     "name": "stdout",
     "output_type": "stream",
     "text": [
      "('Saúde Integral Ltda', 2, 15, 0.13333333333333333, datetime.datetime(2024, 5, 1, 0, 0), 'MAIO', 2024, 'PUBLICO')\n",
      "('Saúde Integral Ltda', 5, 28, 0.17857142857142858, datetime.datetime(2024, 4, 1, 0, 0), 'ABRIL', 2024, 'PUBLICO')\n",
      "('Saúde Integral Ltda', 7, 26, 0.2692307692307692, datetime.datetime(2024, 3, 1, 0, 0), 'MARÇO', 2024, 'PUBLICO')\n",
      "('Saúde Integral Ltda', 5, 22, 0.22727272727272727, datetime.datetime(2024, 2, 1, 0, 0), 'FEVEREIRO', 2024, 'PUBLICO')\n",
      "('Saúde Integral Ltda', 6, 19, 0.3157894736842105, datetime.datetime(2024, 1, 1, 0, 0), 'JANEIRO', 2024, 'PUBLICO')\n"
     ]
    }
   ],
   "source": [
    "# Inserir dados no banco de dados PostgreSQL\n",
    "\n",
    "# Definir a string de conexão com o banco de dados PostgreSQL\n",
    "postgres_str = f'postgresql://{db_user}:{db_password}@{db_host}:{db_port}/{db_name}'\n",
    "        \n",
    "# Configuração da conexão com o banco de dados\n",
    "engine = create_engine(postgres_str)\n",
    "\n",
    "# Criação do schema dre_ecbahia\n",
    "with engine.connect() as connection:\n",
    "    connection.execute(text(\"CREATE SCHEMA IF NOT EXISTS telemedicina;\"))\n",
    "    \n",
    "# from sqlalchemy import Table, Column, Integer, String, Float, MetaData\n",
    "    \n",
    "metadata = MetaData(schema='telemedicina')\n",
    "\n",
    "# Definição da tabela contratos ativos\n",
    "contratos_ativos = Table('contratos_ativos', metadata,\n",
    "                         Column('EMPRESA', String),\n",
    "                         Column('CONSULTAS', Integer),\n",
    "                         Column('VIDAS_ATIVAS', Integer),\n",
    "                         Column('SINISTRALIDADE', Float),\n",
    "                         Column('PERIODO', Date),\n",
    "                         Column('MES', String),\n",
    "                         Column('ANO', Integer),\n",
    "                         Column('SETOR', String),                         \n",
    "                         )\n",
    "\n",
    "# Criação da tabela no banco de dados\n",
    "metadata.create_all(engine)\n",
    "\n",
    "# Inserção dos dados na tabela f_razao_contabil\n",
    "df.to_sql('contratos_ativos', engine, schema='telemedicina', if_exists='replace', index=False)\n",
    "\n",
    "# Consulta para verificar os dados inseridos\n",
    "with engine.connect() as connection:\n",
    "    result = connection.execute(text(\"SELECT * FROM telemedicina.contratos_ativos LIMIT 5;\"))\n",
    "    for row in result:\n",
    "        print(row)"
   ]
  }
 ],
 "metadata": {
  "kernelspec": {
   "display_name": "Python 3 (ipykernel)",
   "language": "python",
   "name": "python3"
  },
  "language_info": {
   "codemirror_mode": {
    "name": "ipython",
    "version": 3
   },
   "file_extension": ".py",
   "mimetype": "text/x-python",
   "name": "python",
   "nbconvert_exporter": "python",
   "pygments_lexer": "ipython3",
   "version": "3.9.13"
  }
 },
 "nbformat": 4,
 "nbformat_minor": 5
}
