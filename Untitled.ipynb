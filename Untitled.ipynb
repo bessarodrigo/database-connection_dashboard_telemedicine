{
 "cells": [
  {
   "cell_type": "code",
   "execution_count": 1,
   "id": "1520b239",
   "metadata": {},
   "outputs": [],
   "source": [
    "import numpy as np\n",
    "import pandas as pd\n",
    "from sqlalchemy import create_engine, text\n",
    "from sqlalchemy import Table, Column, Integer, String, Float, Date, MetaData\n",
    "import os\n",
    "from dotenv import load_dotenv"
   ]
  },
  {
   "cell_type": "code",
   "execution_count": 7,
   "id": "44d352ed",
   "metadata": {},
   "outputs": [],
   "source": [
    "# Carregar variáveis do arquivo .env\n",
    "load_dotenv()\n",
    "\n",
    "# Obter as credenciais do banco de dados do .env\n",
    "db_host = os.getenv(\"DB_HOST\")\n",
    "db_port = os.getenv(\"DB_PORT\")\n",
    "db_name = os.getenv(\"DB_NAME\")\n",
    "db_user = os.getenv(\"DB_USER\")\n",
    "db_password = os.getenv(\"DB_PASSWORD\")\n",
    "excel_path = os.getenv(\"EXCEL_FILE_PATH\")"
   ]
  },
  {
   "cell_type": "code",
   "execution_count": 8,
   "id": "87c19ef2",
   "metadata": {},
   "outputs": [
    {
     "name": "stdout",
     "output_type": "stream",
     "text": [
      "Número de linhas e colunas:\n",
      "(498, 5)\n",
      "\n",
      "-------------------------------------\n",
      "DATA              datetime64[ns]\n",
      "CATEGORIA                 object\n",
      "CLIENTE                   object\n",
      "ITEM_PCG                  object\n",
      "TOTAL_RECEBIDO           float64\n",
      "dtype: object\n",
      "\n",
      "-------------------------------------\n",
      "\n",
      "Visualização inicial dos dados:\n",
      "        DATA     CATEGORIA              CLIENTE             ITEM_PCG  \\\n",
      "0 2024-01-02  TELEMEDICINA  PagSmart Pagamentos  TELEMEDICINA VAREJO   \n",
      "1 2024-01-02        SEGURO       SimPro Seguros   SEGURO CONDOMINIAL   \n",
      "2 2024-01-02        SEGURO             TProtege   SEGURO CONDOMINIAL   \n",
      "3 2024-01-03  TELEMEDICINA  PagSmart Pagamentos  TELEMEDICINA VAREJO   \n",
      "4 2024-01-04        SEGURO  ProtegeMais Seguros   SEGURO RESIDENCIAL   \n",
      "\n",
      "   TOTAL_RECEBIDO  \n",
      "0          473.42  \n",
      "1           95.24  \n",
      "2            4.86  \n",
      "3          243.89  \n",
      "4           35.70  \n"
     ]
    }
   ],
   "source": [
    "# Caminho do arquivo Excel\n",
    "excel_file = excel_path\n",
    "\n",
    "# Carregar os dados da aba específica do arquivo Excel\n",
    "df = pd.read_excel(excel_path, sheet_name='recebimento')\n",
    "\n",
    "# Exibir o número de linhas e colunas\n",
    "print('Número de linhas e colunas:')\n",
    "print(df.shape)\n",
    "\n",
    "print('\\n-------------------------------------')\n",
    "\n",
    "# Exibir os tipos de dados ajustados\n",
    "print(df.dtypes)\n",
    "\n",
    "print('\\n-------------------------------------')\n",
    "\n",
    "# Exibir as primeiras linhas dos dados\n",
    "print('\\nVisualização inicial dos dados:')\n",
    "print(df.head())"
   ]
  },
  {
   "cell_type": "code",
   "execution_count": 9,
   "id": "f9482d1b",
   "metadata": {},
   "outputs": [
    {
     "name": "stdout",
     "output_type": "stream",
     "text": [
      "(datetime.datetime(2024, 1, 2, 0, 0), 'TELEMEDICINA', 'PagSmart Pagamentos', 'TELEMEDICINA VAREJO', 473.42)\n",
      "(datetime.datetime(2024, 1, 2, 0, 0), 'SEGURO', 'SimPro Seguros', 'SEGURO CONDOMINIAL', 95.24)\n",
      "(datetime.datetime(2024, 1, 2, 0, 0), 'SEGURO', 'TProtege', 'SEGURO CONDOMINIAL', 4.86)\n",
      "(datetime.datetime(2024, 1, 3, 0, 0), 'TELEMEDICINA', 'PagSmart Pagamentos', 'TELEMEDICINA VAREJO', 243.89)\n",
      "(datetime.datetime(2024, 1, 4, 0, 0), 'SEGURO', 'ProtegeMais Seguros', 'SEGURO RESIDENCIAL', 35.7)\n"
     ]
    }
   ],
   "source": [
    "# Inserir dados no banco de dados PostgreSQL\n",
    "\n",
    "# Definir a string de conexão com o banco de dados PostgreSQL\n",
    "postgres_str = f'postgresql://{db_user}:{db_password}@{db_host}:{db_port}/{db_name}'\n",
    "        \n",
    "# Configuração da conexão com o banco de dados\n",
    "engine = create_engine(postgres_str)\n",
    "\n",
    "# Criação do schema dre_ecbahia\n",
    "with engine.connect() as connection:\n",
    "    connection.execute(text(\"CREATE SCHEMA IF NOT EXISTS financeiro;\"))\n",
    "    \n",
    "# from sqlalchemy import Table, Column, Integer, String, Float, MetaData\n",
    "    \n",
    "metadata = MetaData(schema='financeiro')\n",
    "\n",
    "# Definição da tabela f_razao_contabil\n",
    "f_razao_contabil = Table('recebimento', metadata,\n",
    "                         Column('DATA', Date),\n",
    "                         Column('CATEGORIA', String),\n",
    "                         Column('CLIENTE', String),\n",
    "                         Column('ITEM_PCG', String),\n",
    "                         Column('TOTAL_RECEBIDO', Float),\n",
    "                         )\n",
    "\n",
    "# Criação da tabela no banco de dados\n",
    "metadata.create_all(engine)\n",
    "\n",
    "# Inserção dos dados na tabela f_razao_contabil\n",
    "df.to_sql('recebimento', engine, schema='financeiro', if_exists='replace', index=False)\n",
    "\n",
    "# Consulta para verificar os dados inseridos\n",
    "with engine.connect() as connection:\n",
    "    result = connection.execute(text(\"SELECT * FROM financeiro.recebimento LIMIT 5;\"))\n",
    "    for row in result:\n",
    "        print(row)"
   ]
  }
 ],
 "metadata": {
  "kernelspec": {
   "display_name": "Python 3 (ipykernel)",
   "language": "python",
   "name": "python3"
  },
  "language_info": {
   "codemirror_mode": {
    "name": "ipython",
    "version": 3
   },
   "file_extension": ".py",
   "mimetype": "text/x-python",
   "name": "python",
   "nbconvert_exporter": "python",
   "pygments_lexer": "ipython3",
   "version": "3.9.13"
  }
 },
 "nbformat": 4,
 "nbformat_minor": 5
}
